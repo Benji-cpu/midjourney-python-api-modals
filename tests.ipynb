{
 "cells": [
  {
   "cell_type": "code",
   "execution_count": 10,
   "metadata": {},
   "outputs": [],
   "source": [
    "import json\n",
    "\n",
    "def extract_keys_from_payload(payload):\n",
    "    \"\"\"\n",
    "    Extracts specific keys from a given payload.\n",
    "    payload: dict, the input data.\n",
    "    \"\"\"\n",
    "    # Keys to be extracted\n",
    "    keys = ['type', 'custom_id']\n",
    "\n",
    "    # Extract the 'd' key from the payload\n",
    "    d = payload.get('d', {})\n",
    "\n",
    "    # Extract the first component from 'd'\n",
    "    components = d.get('components', [{}])[0].get('components', [{}])\n",
    "\n",
    "    # Extract the keys from the first component\n",
    "    extracted = {key: components[0].get(key) for key in keys}\n",
    "    # add value key to extracted\n",
    "    extracted['value'] = \"test value\"\n",
    "    # Convert to json format\n",
    "    json_format = json.dumps(extracted)\n",
    "\n",
    "    return json_format"
   ]
  },
  {
   "cell_type": "code",
   "execution_count": 13,
   "metadata": {},
   "outputs": [
    {
     "name": "stdout",
     "output_type": "stream",
     "text": [
      "{\"type\": 4, \"custom_id\": \"MJ::RemixModal::new_prompt\", \"value\": \"test value\"}\n"
     ]
    }
   ],
   "source": [
    "import json\n",
    "\n",
    "payload = {'t': 'INTERACTION_MODAL_CREATE', 's': 5, 'op': 0, 'd': {'title': 'Remix Prompt', 'nonce': '1126711848599552000', 'id': '1126711854098546738', 'custom_id': 'MJ::RemixModal::9b4c35ed-6753-423b-84b1-e9a3c9b9b1d8::1::1', 'components': [{'type': 1, 'components': [{'value': 'In the style of Jumbo Press, create a risograph piece of the Zodiac wheel based on ancient Greek zodiac representations. Use a palette of celestial blues, silvers, and deep blacks to portray the mystery and guidance of the stars. --ar 1:2', 'type': 4, 'style': 2, 'required': True, 'placeholder': 'Enter a new prompt', 'min_length': 1, 'max_length': 4000, 'label': 'New Prompt for image #1', 'custom_id': 'MJ::RemixModal::new_prompt'}]}], 'channel_id': '1125968804489482311', 'application': {'type': None, 'summary': '', 'name': 'Midjourney Bot', 'id': '936929561302675456', 'icon': 'f6ce562a6b4979c4b1cbc5b436d3be76', 'description': 'Generate an image based on a text prompt in under 60 seconds using the </imagine:938956540159881230> command!\\n\\nhttps://docs.midjourney.com/docs/terms-of-service', 'bot': {'username': 'Midjourney Bot', 'public_flags': 589824, 'id': '936929561302675456', 'global_name': None, 'discriminator': '9282', 'bot': True, 'avatar_decoration': None, 'avatar': 'f6ce562a6b4979c4b1cbc5b436d3be76'}}}}\n",
    "\n",
    "payload_json = json.dumps(payload)\n",
    "\n",
    "print(extract_keys_from_payload(payload))"
   ]
  },
  {
   "cell_type": "code",
   "execution_count": 14,
   "metadata": {},
   "outputs": [
    {
     "name": "stdout",
     "output_type": "stream",
     "text": [
      "{\"t\": \"INTERACTION_MODAL_CREATE\", \"s\": 5, \"op\": 0, \"d\": {\"title\": \"Remix Prompt\", \"nonce\": \"1126711848599552000\", \"id\": \"1126711854098546738\", \"custom_id\": \"MJ::RemixModal::9b4c35ed-6753-423b-84b1-e9a3c9b9b1d8::1::1\", \"components\": [{\"type\": 1, \"components\": [{\"value\": \"In the style of Jumbo Press, create a risograph piece of the Zodiac wheel based on ancient Greek zodiac representations. Use a palette of celestial blues, silvers, and deep blacks to portray the mystery and guidance of the stars. --ar 1:2\", \"type\": 4, \"style\": 2, \"required\": true, \"placeholder\": \"Enter a new prompt\", \"min_length\": 1, \"max_length\": 4000, \"label\": \"New Prompt for image #1\", \"custom_id\": \"MJ::RemixModal::new_prompt\"}]}], \"channel_id\": \"1125968804489482311\", \"application\": {\"type\": null, \"summary\": \"\", \"name\": \"Midjourney Bot\", \"id\": \"936929561302675456\", \"icon\": \"f6ce562a6b4979c4b1cbc5b436d3be76\", \"description\": \"Generate an image based on a text prompt in under 60 seconds using the </imagine:938956540159881230> command!\\n\\nhttps://docs.midjourney.com/docs/terms-of-service\", \"bot\": {\"username\": \"Midjourney Bot\", \"public_flags\": 589824, \"id\": \"936929561302675456\", \"global_name\": null, \"discriminator\": \"9282\", \"bot\": true, \"avatar_decoration\": null, \"avatar\": \"f6ce562a6b4979c4b1cbc5b436d3be76\"}}}}\n"
     ]
    }
   ],
   "source": [
    "print(payload_json)"
   ]
  },
  {
   "cell_type": "code",
   "execution_count": 15,
   "metadata": {},
   "outputs": [
    {
     "name": "stdout",
     "output_type": "stream",
     "text": [
      "{\"type\": \"reply\", \"tts\": false, \"timestamp\": \"2023-07-08T06:29:23.575000+00:00\", \"referenced_message\": {\"type\": 19, \"tts\": false, \"timestamp\": \"2023-07-06T07:36:53.724000+00:00\", \"pinned\": false, \"message_reference\": {\"message_id\": \"1126409391982252153\", \"guild_id\": \"1086546604116414494\", \"channel_id\": \"1125968804489482311\"}, \"mentions\": [{\"username\": \"turbomint\", \"public_flags\": 0, \"id\": \"1083635051046113350\", \"global_name\": \"Turbomint\", \"discriminator\": \"0\", \"avatar_decoration\": null, \"avatar\": null}], \"mention_roles\": [], \"mention_everyone\": false, \"id\": \"1126416467777306714\", \"flags\": 0, \"embeds\": [], \"edited_timestamp\": null, \"content\": \"**In the style of Jumbo Press, create a risograph piece of the Zodiac wheel based on ancient Greek zodiac representations. Use a palette of celestial blues, silvers, and deep blacks to portray the mystery and guidance of the stars. --ar 1:2** - Remix by <@1083635051046113350> (Open on website for full quality) (fast)\", \"components\": [{\"type\": 1, \"components\": [{\"type\": 2, \"style\": 1, \"label\": \"U1\", \"custom_id\": \"MJ::JOB::upsample::1::88dc685c-dd85-47fb-ad75-212a7bf36cb7\"}, {\"type\": 2, \"style\": 1, \"label\": \"U2\", \"custom_id\": \"MJ::JOB::upsample::2::88dc685c-dd85-47fb-ad75-212a7bf36cb7\"}, {\"type\": 2, \"style\": 1, \"label\": \"U3\", \"custom_id\": \"MJ::JOB::upsample::3::88dc685c-dd85-47fb-ad75-212a7bf36cb7\"}, {\"type\": 2, \"style\": 2, \"label\": \"U4\", \"custom_id\": \"MJ::JOB::upsample::4::88dc685c-dd85-47fb-ad75-212a7bf36cb7\"}, {\"type\": 2, \"style\": 2, \"emoji\": {\"name\": \"\\ud83d\\udd04\"}, \"custom_id\": \"MJ::JOB::reroll::0::88dc685c-dd85-47fb-ad75-212a7bf36cb7::SOLO\"}]}, {\"type\": 1, \"components\": [{\"type\": 2, \"style\": 2, \"label\": \"V1\", \"custom_id\": \"MJ::JOB::variation::1::88dc685c-dd85-47fb-ad75-212a7bf36cb7\"}, {\"type\": 2, \"style\": 2, \"label\": \"V2\", \"custom_id\": \"MJ::JOB::variation::2::88dc685c-dd85-47fb-ad75-212a7bf36cb7\"}, {\"type\": 2, \"style\": 2, \"label\": \"V3\", \"custom_id\": \"MJ::JOB::variation::3::88dc685c-dd85-47fb-ad75-212a7bf36cb7\"}, {\"type\": 2, \"style\": 2, \"label\": \"V4\", \"custom_id\": \"MJ::JOB::variation::4::88dc685c-dd85-47fb-ad75-212a7bf36cb7\"}]}], \"channel_id\": \"1125968804489482311\", \"author\": {\"username\": \"Midjourney Bot\", \"public_flags\": 589824, \"id\": \"936929561302675456\", \"global_name\": null, \"discriminator\": \"9282\", \"bot\": true, \"avatar_decoration\": null, \"avatar\": \"f6ce562a6b4979c4b1cbc5b436d3be76\"}, \"attachments\": [{\"width\": 1536, \"url\": \"https://cdn.discordapp.com/attachments/1125968804489482311/1126416467370455100/turbomint_In_the_style_of_Jumbo_Press_create_a_risograph_piece__88dc685c-dd85-47fb-ad75-212a7bf36cb7.webp\", \"size\": 2630596, \"proxy_url\": \"https://media.discordapp.net/attachments/1125968804489482311/1126416467370455100/turbomint_In_the_style_of_Jumbo_Press_create_a_risograph_piece__88dc685c-dd85-47fb-ad75-212a7bf36cb7.webp\", \"id\": \"1126416467370455100\", \"height\": 3072, \"filename\": \"turbomint_In_the_style_of_Jumbo_Press_create_a_risograph_piece__88dc685c-dd85-47fb-ad75-212a7bf36cb7.webp\", \"content_type\": \"image/webp\"}]}, \"pinned\": false, \"message_reference\": {\"message_id\": \"1126416467777306714\", \"guild_id\": \"1086546604116414494\", \"channel_id\": \"1125968804489482311\"}, \"mentions\": [{\"username\": \"turbomint\", \"public_flags\": 0, \"member\": {\"roles\": [], \"premium_since\": null, \"pending\": false, \"nick\": null, \"mute\": false, \"joined_at\": \"2023-03-18T07:08:17.588000+00:00\", \"flags\": 0, \"deaf\": false, \"communication_disabled_until\": null, \"avatar\": null}, \"id\": \"1083635051046113350\", \"global_name\": \"Turbomint\", \"discriminator\": \"0\", \"avatar_decoration\": null, \"avatar\": null}], \"mention_roles\": [], \"mention_everyone\": false, \"id\": \"1127124255952339024\", \"flags\": 0, \"embeds\": [], \"edited_timestamp\": null, \"content\": \"**In the style of Jumbo Press, create a risograph piece of the Zodiac wheel based on ancient Greek zodiac representations. Use a palette of celestial blues, silvers, and deep blacks to portray the mystery and guidance of the stars. --ar 1:2** - Image #3 <@1083635051046113350>\", \"components\": [{\"type\": 1, \"components\": [{\"type\": 2, \"style\": 2, \"label\": \"Vary (Strong)\", \"emoji\": {\"name\": \"\\ud83e\\ude84\"}, \"custom_id\": \"MJ::JOB::high_variation::1::221a5a45-83be-4e8a-b386-c092498df2c7::SOLO\"}, {\"type\": 2, \"style\": 2, \"label\": \"Vary (Subtle)\", \"emoji\": {\"name\": \"\\ud83e\\ude84\"}, \"custom_id\": \"MJ::JOB::low_variation::1::221a5a45-83be-4e8a-b386-c092498df2c7::SOLO\"}]}, {\"type\": 1, \"components\": [{\"type\": 2, \"style\": 2, \"label\": \"Zoom Out 2x\", \"emoji\": {\"name\": \"\\ud83d\\udd0d\"}, \"custom_id\": \"MJ::Outpaint::50::1::221a5a45-83be-4e8a-b386-c092498df2c7::SOLO\"}, {\"type\": 2, \"style\": 2, \"label\": \"Zoom Out 1.5x\", \"emoji\": {\"name\": \"\\ud83d\\udd0d\"}, \"custom_id\": \"MJ::Outpaint::75::1::221a5a45-83be-4e8a-b386-c092498df2c7::SOLO\"}, {\"type\": 2, \"style\": 2, \"label\": \"Custom Zoom\", \"emoji\": {\"name\": \"\\ud83d\\udd0d\"}, \"custom_id\": \"MJ::CustomZoom::221a5a45-83be-4e8a-b386-c092498df2c7\"}, {\"type\": 2, \"style\": 2, \"label\": \"Make Square\", \"emoji\": {\"name\": \"\\u2194\\ufe0f\"}, \"custom_id\": \"MJ::Outpaint::100::1::221a5a45-83be-4e8a-b386-c092498df2c7::SOLO\"}]}, {\"type\": 1, \"components\": [{\"type\": 2, \"style\": 2, \"emoji\": {\"name\": \"\\u2b05\\ufe0f\"}, \"custom_id\": \"MJ::JOB::pan_left::1::221a5a45-83be-4e8a-b386-c092498df2c7::SOLO\"}, {\"type\": 2, \"style\": 2, \"emoji\": {\"name\": \"\\u27a1\\ufe0f\"}, \"custom_id\": \"MJ::JOB::pan_right::1::221a5a45-83be-4e8a-b386-c092498df2c7::SOLO\"}, {\"type\": 2, \"style\": 2, \"emoji\": {\"name\": \"\\u2b06\\ufe0f\"}, \"custom_id\": \"MJ::JOB::pan_up::1::221a5a45-83be-4e8a-b386-c092498df2c7::SOLO\"}, {\"type\": 2, \"style\": 2, \"emoji\": {\"name\": \"\\u2b07\\ufe0f\"}, \"custom_id\": \"MJ::JOB::pan_down::1::221a5a45-83be-4e8a-b386-c092498df2c7::SOLO\"}]}, {\"type\": 1, \"components\": [{\"type\": 2, \"style\": 2, \"emoji\": {\"name\": \"\\u2764\\ufe0f\"}, \"custom_id\": \"MJ::BOOKMARK::221a5a45-83be-4e8a-b386-c092498df2c7\"}, {\"url\": \"https://www.midjourney.com/app/jobs/221a5a45-83be-4e8a-b386-c092498df2c7/\", \"type\": 2, \"style\": 5, \"label\": \"Web\"}]}], \"channel_id\": \"1125968804489482311\", \"author\": {\"username\": \"Midjourney Bot\", \"public_flags\": 589824, \"id\": \"936929561302675456\", \"global_name\": null, \"discriminator\": \"9282\", \"bot\": true, \"avatar_decoration\": null, \"avatar\": null, \"roles\": [\"1086549343034679340\"], \"premium_since\": null, \"pending\": false, \"nick\": null, \"mute\": false, \"joined_at\": \"2023-03-18T07:19:10.582145+00:00\", \"flags\": 0, \"deaf\": false, \"communication_disabled_until\": null}, \"attachments\": [{\"width\": 768, \"url\": \"https://cdn.discordapp.com/attachments/1125968804489482311/1127124255541313576/turbomint_In_the_style_of_Jumbo_Press_create_a_risograph_piece__221a5a45-83be-4e8a-b386-c092498df2c7.png\", \"size\": 2275093, \"proxy_url\": \"https://media.discordapp.net/attachments/1125968804489482311/1127124255541313576/turbomint_In_the_style_of_Jumbo_Press_create_a_risograph_piece__221a5a45-83be-4e8a-b386-c092498df2c7.png\", \"id\": \"1127124255541313576\", \"height\": 1536, \"filename\": \"turbomint_In_the_style_of_Jumbo_Press_create_a_risograph_piece__221a5a45-83be-4e8a-b386-c092498df2c7.png\", \"content_type\": \"image/png\"}], \"guild_id\": \"1086546604116414494\"}\n"
     ]
    }
   ],
   "source": [
    "payload_button = {'type': 'reply', 'tts': False, 'timestamp': '2023-07-08T06:29:23.575000+00:00', 'referenced_message': {'type': 19, 'tts': False, 'timestamp': '2023-07-06T07:36:53.724000+00:00', 'pinned': False, 'message_reference': {'message_id': '1126409391982252153', 'guild_id': '1086546604116414494', 'channel_id': '1125968804489482311'}, 'mentions': [{'username': 'turbomint', 'public_flags': 0, 'id': '1083635051046113350', 'global_name': 'Turbomint', 'discriminator': '0', 'avatar_decoration': None, 'avatar': None}], 'mention_roles': [], 'mention_everyone': False, 'id': '1126416467777306714', 'flags': 0, 'embeds': [], 'edited_timestamp': None, 'content': '**In the style of Jumbo Press, create a risograph piece of the Zodiac wheel based on ancient Greek zodiac representations. Use a palette of celestial blues, silvers, and deep blacks to portray the mystery and guidance of the stars. --ar 1:2** - Remix by <@1083635051046113350> (Open on website for full quality) (fast)', 'components': [{'type': 1, 'components': [{'type': 2, 'style': 1, 'label': 'U1', 'custom_id': 'MJ::JOB::upsample::1::88dc685c-dd85-47fb-ad75-212a7bf36cb7'}, {'type': 2, 'style': 1, 'label': 'U2', 'custom_id': 'MJ::JOB::upsample::2::88dc685c-dd85-47fb-ad75-212a7bf36cb7'}, {'type': 2, 'style': 1, 'label': 'U3', 'custom_id': 'MJ::JOB::upsample::3::88dc685c-dd85-47fb-ad75-212a7bf36cb7'}, {'type': 2, 'style': 2, 'label': 'U4', 'custom_id': 'MJ::JOB::upsample::4::88dc685c-dd85-47fb-ad75-212a7bf36cb7'}, {'type': 2, 'style': 2, 'emoji': {'name': '🔄'}, 'custom_id': 'MJ::JOB::reroll::0::88dc685c-dd85-47fb-ad75-212a7bf36cb7::SOLO'}]}, {'type': 1, 'components': [{'type': 2, 'style': 2, 'label': 'V1', 'custom_id': 'MJ::JOB::variation::1::88dc685c-dd85-47fb-ad75-212a7bf36cb7'}, {'type': 2, 'style': 2, 'label': 'V2', 'custom_id': 'MJ::JOB::variation::2::88dc685c-dd85-47fb-ad75-212a7bf36cb7'}, {'type': 2, 'style': 2, 'label': 'V3', 'custom_id': 'MJ::JOB::variation::3::88dc685c-dd85-47fb-ad75-212a7bf36cb7'}, {'type': 2, 'style': 2, 'label': 'V4', 'custom_id': 'MJ::JOB::variation::4::88dc685c-dd85-47fb-ad75-212a7bf36cb7'}]}], 'channel_id': '1125968804489482311', 'author': {'username': 'Midjourney Bot', 'public_flags': 589824, 'id': '936929561302675456', 'global_name': None, 'discriminator': '9282', 'bot': True, 'avatar_decoration': None, 'avatar': 'f6ce562a6b4979c4b1cbc5b436d3be76'}, 'attachments': [{'width': 1536, 'url': 'https://cdn.discordapp.com/attachments/1125968804489482311/1126416467370455100/turbomint_In_the_style_of_Jumbo_Press_create_a_risograph_piece__88dc685c-dd85-47fb-ad75-212a7bf36cb7.webp', 'size': 2630596, 'proxy_url': 'https://media.discordapp.net/attachments/1125968804489482311/1126416467370455100/turbomint_In_the_style_of_Jumbo_Press_create_a_risograph_piece__88dc685c-dd85-47fb-ad75-212a7bf36cb7.webp', 'id': '1126416467370455100', 'height': 3072, 'filename': 'turbomint_In_the_style_of_Jumbo_Press_create_a_risograph_piece__88dc685c-dd85-47fb-ad75-212a7bf36cb7.webp', 'content_type': 'image/webp'}]}, 'pinned': False, 'message_reference': {'message_id': '1126416467777306714', 'guild_id': '1086546604116414494', 'channel_id': '1125968804489482311'}, 'mentions': [{'username': 'turbomint', 'public_flags': 0, 'member': {'roles': [], 'premium_since': None, 'pending': False, 'nick': None, 'mute': False, 'joined_at': '2023-03-18T07:08:17.588000+00:00', 'flags': 0, 'deaf': False, 'communication_disabled_until': None, 'avatar': None}, 'id': '1083635051046113350', 'global_name': 'Turbomint', 'discriminator': '0', 'avatar_decoration': None, 'avatar': None}], 'mention_roles': [], 'mention_everyone': False, 'id': '1127124255952339024', 'flags': 0, 'embeds': [], 'edited_timestamp': None, 'content': '**In the style of Jumbo Press, create a risograph piece of the Zodiac wheel based on ancient Greek zodiac representations. Use a palette of celestial blues, silvers, and deep blacks to portray the mystery and guidance of the stars. --ar 1:2** - Image #3 <@1083635051046113350>', 'components': [{'type': 1, 'components': [{'type': 2, 'style': 2, 'label': 'Vary (Strong)', 'emoji': {'name': '🪄'}, 'custom_id': 'MJ::JOB::high_variation::1::221a5a45-83be-4e8a-b386-c092498df2c7::SOLO'}, {'type': 2, 'style': 2, 'label': 'Vary (Subtle)', 'emoji': {'name': '🪄'}, 'custom_id': 'MJ::JOB::low_variation::1::221a5a45-83be-4e8a-b386-c092498df2c7::SOLO'}]}, {'type': 1, 'components': [{'type': 2, 'style': 2, 'label': 'Zoom Out 2x', 'emoji': {'name': '🔍'}, 'custom_id': 'MJ::Outpaint::50::1::221a5a45-83be-4e8a-b386-c092498df2c7::SOLO'}, {'type': 2, 'style': 2, 'label': 'Zoom Out 1.5x', 'emoji': {'name': '🔍'}, 'custom_id': 'MJ::Outpaint::75::1::221a5a45-83be-4e8a-b386-c092498df2c7::SOLO'}, {'type': 2, 'style': 2, 'label': 'Custom Zoom', 'emoji': {'name': '🔍'}, 'custom_id': 'MJ::CustomZoom::221a5a45-83be-4e8a-b386-c092498df2c7'}, {'type': 2, 'style': 2, 'label': 'Make Square', 'emoji': {'name': '↔️'}, 'custom_id': 'MJ::Outpaint::100::1::221a5a45-83be-4e8a-b386-c092498df2c7::SOLO'}]}, {'type': 1, 'components': [{'type': 2, 'style': 2, 'emoji': {'name': '⬅️'}, 'custom_id': 'MJ::JOB::pan_left::1::221a5a45-83be-4e8a-b386-c092498df2c7::SOLO'}, {'type': 2, 'style': 2, 'emoji': {'name': '➡️'}, 'custom_id': 'MJ::JOB::pan_right::1::221a5a45-83be-4e8a-b386-c092498df2c7::SOLO'}, {'type': 2, 'style': 2, 'emoji': {'name': '⬆️'}, 'custom_id': 'MJ::JOB::pan_up::1::221a5a45-83be-4e8a-b386-c092498df2c7::SOLO'}, {'type': 2, 'style': 2, 'emoji': {'name': '⬇️'}, 'custom_id': 'MJ::JOB::pan_down::1::221a5a45-83be-4e8a-b386-c092498df2c7::SOLO'}]}, {'type': 1, 'components': [{'type': 2, 'style': 2, 'emoji': {'name': '❤️'}, 'custom_id': 'MJ::BOOKMARK::221a5a45-83be-4e8a-b386-c092498df2c7'}, {'url': 'https://www.midjourney.com/app/jobs/221a5a45-83be-4e8a-b386-c092498df2c7/', 'type': 2, 'style': 5, 'label': 'Web'}]}], 'channel_id': '1125968804489482311', 'author': {'username': 'Midjourney Bot', 'public_flags': 589824, 'id': '936929561302675456', 'global_name': None, 'discriminator': '9282', 'bot': True, 'avatar_decoration': None, 'avatar': None, 'roles': ['1086549343034679340'], 'premium_since': None, 'pending': False, 'nick': None, 'mute': False, 'joined_at': '2023-03-18T07:19:10.582145+00:00', 'flags': 0, 'deaf': False, 'communication_disabled_until': None}, 'attachments': [{'width': 768, 'url': 'https://cdn.discordapp.com/attachments/1125968804489482311/1127124255541313576/turbomint_In_the_style_of_Jumbo_Press_create_a_risograph_piece__221a5a45-83be-4e8a-b386-c092498df2c7.png', 'size': 2275093, 'proxy_url': 'https://media.discordapp.net/attachments/1125968804489482311/1127124255541313576/turbomint_In_the_style_of_Jumbo_Press_create_a_risograph_piece__221a5a45-83be-4e8a-b386-c092498df2c7.png', 'id': '1127124255541313576', 'height': 1536, 'filename': 'turbomint_In_the_style_of_Jumbo_Press_create_a_risograph_piece__221a5a45-83be-4e8a-b386-c092498df2c7.png', 'content_type': 'image/png'}], 'guild_id': '1086546604116414494'}\n",
    "\n",
    "payload_button_json = json.dumps(payload_button)\n",
    "print(payload_button_json)"
   ]
  },
  {
   "cell_type": "code",
   "execution_count": 16,
   "metadata": {},
   "outputs": [
    {
     "name": "stdout",
     "output_type": "stream",
     "text": [
      "{\"type\": 5, \"nonce\": \"1128394796302336000\", \"guild_id\": \"1086546604116414494\", \"channel_id\": \"1125968804489482311\", \"message_flags\": null, \"id\": \"1128394797716082688\", \"application_id\": \"936929561302675456\", \"data\": {\"type\": 1, \"custom_id\": \"MJ::RemixModal::9b4c35ed-6753-423b-84b1-e9a3c9b9b1d8::1::1\", \"value\": \"test value\"}, \"session_id\": \"55a92efd235a99947eb35d21f401b36d\"}\n"
     ]
    }
   ],
   "source": [
    "import json\n",
    "\n",
    "data = {\n",
    "    'type': 5, \n",
    "    'nonce': '1128394796302336000', \n",
    "    'guild_id': '1086546604116414494', \n",
    "    'channel_id': '1125968804489482311', \n",
    "    'message_flags': None, \n",
    "    'id': '1128394797716082688', \n",
    "    'application_id': '936929561302675456', \n",
    "    'data': {\n",
    "        'type': 1, \n",
    "        'custom_id': 'MJ::RemixModal::9b4c35ed-6753-423b-84b1-e9a3c9b9b1d8::1::1', \n",
    "        'value': 'test value'   # The syntax error was here\n",
    "    }, \n",
    "    'session_id': '55a92efd235a99947eb35d21f401b36d'\n",
    "}\n",
    "\n",
    "json_data = json.dumps(data)\n",
    "print(json_data)"
   ]
  },
  {
   "cell_type": "code",
   "execution_count": null,
   "metadata": {},
   "outputs": [],
   "source": [
    "import json\n",
    "\n",
    "json_string = \"\"\"\n",
    "{\n",
    "  \"type\": 5,\n",
    "  \"nonce\": \"1137187413370667008\",\n",
    "  \"application_id\": \"936929561302675456\",\n",
    "  \"channel_id\": \"1107879208191008831\",\n",
    "  \"guild_id\": \"1107879208191008818\",\n",
    "  \"data\": {\n",
    "    \"id\": \"1127187400456675399\",\n",
    "    \"custom_id\": \"MJ::OutpaintCustomZoomModal::a191cc32-96f0-4601-a487-5790d9794bde\",\n",
    "    \"components\": [\n",
    "      {\n",
    "        \"type\": 1,\n",
    "        \"components\": [\n",
    "          {\n",
    "            \"type\": 4,\n",
    "            \"custom_id\": \"MJ::OutpaintCustomZoomModal::prompt\",\n",
    "            \"value\": \"a good dog --ar 1:1 --zoom 2\"\n",
    "          }\n",
    "        ]\n",
    "      }\n",
    "    ]\n",
    "  },\n",
    "  \"session_id\": \"dd0a0046468bad5cb2e52e9f294e05e8\"\n",
    "}\n",
    "\"\"\"\n",
    "\n",
    "data_dict = json.loads(json_string)\n",
    "print(data_dict)\n"
   ]
  },
  {
   "cell_type": "code",
   "execution_count": 42,
   "metadata": {},
   "outputs": [],
   "source": [
    "def extract_data(payload, value):\n",
    "    extracted_data = payload  # payload is already a dictionary, no need for json.loads()\n",
    "\n",
    "    output_components = []\n",
    "    for component in extracted_data.get('components', []):\n",
    "        inner_components = []\n",
    "        for inner_component in component.get('components', []):\n",
    "            inner_components.append({\n",
    "                'type': inner_component.get('type'),\n",
    "                'custom_id': inner_component.get('custom_id'),\n",
    "                'value': value,\n",
    "            })\n",
    "\n",
    "        output_components.append({\n",
    "            'type': component.get('type'),\n",
    "            'components': inner_components\n",
    "        })\n",
    "\n",
    "    parsed_output = {\n",
    "        'id': extracted_data.get('id'),\n",
    "        'custom_id': extracted_data.get('custom_id'),\n",
    "        'components': output_components\n",
    "    }\n",
    "    return parsed_output"
   ]
  },
  {
   "cell_type": "code",
   "execution_count": 43,
   "metadata": {},
   "outputs": [
    {
     "ename": "TypeError",
     "evalue": "extract_data() missing 1 required positional argument: 'value'",
     "output_type": "error",
     "traceback": [
      "\u001b[0;31m---------------------------------------------------------------------------\u001b[0m",
      "\u001b[0;31mTypeError\u001b[0m                                 Traceback (most recent call last)",
      "Cell \u001b[0;32mIn[43], line 6\u001b[0m\n\u001b[1;32m      3\u001b[0m value \u001b[39m=\u001b[39m \u001b[39m\"\u001b[39m\u001b[39mtest value\u001b[39m\u001b[39m\"\u001b[39m\n\u001b[1;32m      4\u001b[0m payload \u001b[39m=\u001b[39m {\u001b[39m'\u001b[39m\u001b[39mtitle\u001b[39m\u001b[39m'\u001b[39m: \u001b[39m'\u001b[39m\u001b[39mRemix Prompt\u001b[39m\u001b[39m'\u001b[39m, \u001b[39m'\u001b[39m\u001b[39mnonce\u001b[39m\u001b[39m'\u001b[39m: \u001b[39m'\u001b[39m\u001b[39m1128539407515648000\u001b[39m\u001b[39m'\u001b[39m, \u001b[39m'\u001b[39m\u001b[39mid\u001b[39m\u001b[39m'\u001b[39m: \u001b[39m'\u001b[39m\u001b[39m1128539413329223760\u001b[39m\u001b[39m'\u001b[39m, \u001b[39m'\u001b[39m\u001b[39mcustom_id\u001b[39m\u001b[39m'\u001b[39m: \u001b[39m'\u001b[39m\u001b[39mMJ::RemixModal::221a5a45-83be-4e8a-b386-c092498df2c7::1::1\u001b[39m\u001b[39m'\u001b[39m, \u001b[39m'\u001b[39m\u001b[39mcomponents\u001b[39m\u001b[39m'\u001b[39m: [{\u001b[39m'\u001b[39m\u001b[39mtype\u001b[39m\u001b[39m'\u001b[39m: \u001b[39m1\u001b[39m, \u001b[39m'\u001b[39m\u001b[39mcomponents\u001b[39m\u001b[39m'\u001b[39m: [{\u001b[39m'\u001b[39m\u001b[39mvalue\u001b[39m\u001b[39m'\u001b[39m: \u001b[39m'\u001b[39m\u001b[39mIn the style of Jumbo Press, create a risograph piece of the Zodiac wheel based on ancient Greek zodiac representations. Use a palette of celestial blues, silvers, and deep blacks to portray the mystery and guidance of the stars. --ar 1:2\u001b[39m\u001b[39m'\u001b[39m, \u001b[39m'\u001b[39m\u001b[39mtype\u001b[39m\u001b[39m'\u001b[39m: \u001b[39m4\u001b[39m, \u001b[39m'\u001b[39m\u001b[39mstyle\u001b[39m\u001b[39m'\u001b[39m: \u001b[39m2\u001b[39m, \u001b[39m'\u001b[39m\u001b[39mrequired\u001b[39m\u001b[39m'\u001b[39m: \u001b[39mTrue\u001b[39;00m, \u001b[39m'\u001b[39m\u001b[39mplaceholder\u001b[39m\u001b[39m'\u001b[39m: \u001b[39m'\u001b[39m\u001b[39mEnter a new prompt\u001b[39m\u001b[39m'\u001b[39m, \u001b[39m'\u001b[39m\u001b[39mmin_length\u001b[39m\u001b[39m'\u001b[39m: \u001b[39m1\u001b[39m, \u001b[39m'\u001b[39m\u001b[39mmax_length\u001b[39m\u001b[39m'\u001b[39m: \u001b[39m4000\u001b[39m, \u001b[39m'\u001b[39m\u001b[39mlabel\u001b[39m\u001b[39m'\u001b[39m: \u001b[39m'\u001b[39m\u001b[39mNew Prompt for image #1\u001b[39m\u001b[39m'\u001b[39m, \u001b[39m'\u001b[39m\u001b[39mcustom_id\u001b[39m\u001b[39m'\u001b[39m: \u001b[39m'\u001b[39m\u001b[39mMJ::RemixModal::new_prompt\u001b[39m\u001b[39m'\u001b[39m}]}], \u001b[39m'\u001b[39m\u001b[39mchannel_id\u001b[39m\u001b[39m'\u001b[39m: \u001b[39m'\u001b[39m\u001b[39m1125968804489482311\u001b[39m\u001b[39m'\u001b[39m, \u001b[39m'\u001b[39m\u001b[39mapplication\u001b[39m\u001b[39m'\u001b[39m: {\u001b[39m'\u001b[39m\u001b[39mtype\u001b[39m\u001b[39m'\u001b[39m: \u001b[39mNone\u001b[39;00m, \u001b[39m'\u001b[39m\u001b[39msummary\u001b[39m\u001b[39m'\u001b[39m: \u001b[39m'\u001b[39m\u001b[39m'\u001b[39m, \u001b[39m'\u001b[39m\u001b[39mname\u001b[39m\u001b[39m'\u001b[39m: \u001b[39m'\u001b[39m\u001b[39mMidjourney Bot\u001b[39m\u001b[39m'\u001b[39m, \u001b[39m'\u001b[39m\u001b[39mid\u001b[39m\u001b[39m'\u001b[39m: \u001b[39m'\u001b[39m\u001b[39m936929561302675456\u001b[39m\u001b[39m'\u001b[39m, \u001b[39m'\u001b[39m\u001b[39micon\u001b[39m\u001b[39m'\u001b[39m: \u001b[39m'\u001b[39m\u001b[39mf6ce562a6b4979c4b1cbc5b436d3be76\u001b[39m\u001b[39m'\u001b[39m, \u001b[39m'\u001b[39m\u001b[39mdescription\u001b[39m\u001b[39m'\u001b[39m: \u001b[39m'\u001b[39m\u001b[39mGenerate an image based on a text prompt in under 60 seconds using the </imagine:938956540159881230> command!\u001b[39m\u001b[39m\\n\u001b[39;00m\u001b[39m\\n\u001b[39;00m\u001b[39mhttps://docs.midjourney.com/docs/terms-of-service\u001b[39m\u001b[39m'\u001b[39m, \u001b[39m'\u001b[39m\u001b[39mbot\u001b[39m\u001b[39m'\u001b[39m: {\u001b[39m'\u001b[39m\u001b[39musername\u001b[39m\u001b[39m'\u001b[39m: \u001b[39m'\u001b[39m\u001b[39mMidjourney Bot\u001b[39m\u001b[39m'\u001b[39m, \u001b[39m'\u001b[39m\u001b[39mpublic_flags\u001b[39m\u001b[39m'\u001b[39m: \u001b[39m589824\u001b[39m, \u001b[39m'\u001b[39m\u001b[39mid\u001b[39m\u001b[39m'\u001b[39m: \u001b[39m'\u001b[39m\u001b[39m936929561302675456\u001b[39m\u001b[39m'\u001b[39m, \u001b[39m'\u001b[39m\u001b[39mglobal_name\u001b[39m\u001b[39m'\u001b[39m: \u001b[39mNone\u001b[39;00m, \u001b[39m'\u001b[39m\u001b[39mdiscriminator\u001b[39m\u001b[39m'\u001b[39m: \u001b[39m'\u001b[39m\u001b[39m9282\u001b[39m\u001b[39m'\u001b[39m, \u001b[39m'\u001b[39m\u001b[39mbot\u001b[39m\u001b[39m'\u001b[39m: \u001b[39mTrue\u001b[39;00m, \u001b[39m'\u001b[39m\u001b[39mavatar_decoration\u001b[39m\u001b[39m'\u001b[39m: \u001b[39mNone\u001b[39;00m, \u001b[39m'\u001b[39m\u001b[39mavatar\u001b[39m\u001b[39m'\u001b[39m: \u001b[39m'\u001b[39m\u001b[39mf6ce562a6b4979c4b1cbc5b436d3be76\u001b[39m\u001b[39m'\u001b[39m}}}\n\u001b[0;32m----> 6\u001b[0m extracted_payload \u001b[39m=\u001b[39m extract_data(payload, value)\n\u001b[1;32m      7\u001b[0m extracted_payload_json \u001b[39m=\u001b[39m json\u001b[39m.\u001b[39mdumps(extracted_payload)\n\u001b[1;32m      8\u001b[0m \u001b[39mprint\u001b[39m(extracted_payload_json)\n",
      "\u001b[0;31mTypeError\u001b[0m: extract_data() missing 1 required positional argument: 'value'"
     ]
    }
   ],
   "source": [
    "import json\n",
    "\n",
    "value = \"test value\"\n",
    "payload = {'title': 'Remix Prompt', 'nonce': '1128539407515648000', 'id': '1128539413329223760', 'custom_id': 'MJ::RemixModal::221a5a45-83be-4e8a-b386-c092498df2c7::1::1', 'components': [{'type': 1, 'components': [{'value': 'In the style of Jumbo Press, create a risograph piece of the Zodiac wheel based on ancient Greek zodiac representations. Use a palette of celestial blues, silvers, and deep blacks to portray the mystery and guidance of the stars. --ar 1:2', 'type': 4, 'style': 2, 'required': True, 'placeholder': 'Enter a new prompt', 'min_length': 1, 'max_length': 4000, 'label': 'New Prompt for image #1', 'custom_id': 'MJ::RemixModal::new_prompt'}]}], 'channel_id': '1125968804489482311', 'application': {'type': None, 'summary': '', 'name': 'Midjourney Bot', 'id': '936929561302675456', 'icon': 'f6ce562a6b4979c4b1cbc5b436d3be76', 'description': 'Generate an image based on a text prompt in under 60 seconds using the </imagine:938956540159881230> command!\\n\\nhttps://docs.midjourney.com/docs/terms-of-service', 'bot': {'username': 'Midjourney Bot', 'public_flags': 589824, 'id': '936929561302675456', 'global_name': None, 'discriminator': '9282', 'bot': True, 'avatar_decoration': None, 'avatar': 'f6ce562a6b4979c4b1cbc5b436d3be76'}}}\n",
    "\n",
    "extracted_payload = extract_data(payload, value)\n",
    "extracted_payload_json = json.dumps(extracted_payload)\n",
    "print(extracted_payload_json)"
   ]
  },
  {
   "cell_type": "code",
   "execution_count": null,
   "metadata": {},
   "outputs": [],
   "source": []
  },
  {
   "cell_type": "code",
   "execution_count": null,
   "metadata": {},
   "outputs": [],
   "source": []
  }
 ],
 "metadata": {
  "kernelspec": {
   "display_name": "Python 3",
   "language": "python",
   "name": "python3"
  },
  "language_info": {
   "codemirror_mode": {
    "name": "ipython",
    "version": 3
   },
   "file_extension": ".py",
   "mimetype": "text/x-python",
   "name": "python",
   "nbconvert_exporter": "python",
   "pygments_lexer": "ipython3",
   "version": "3.11.3"
  },
  "orig_nbformat": 4
 },
 "nbformat": 4,
 "nbformat_minor": 2
}
